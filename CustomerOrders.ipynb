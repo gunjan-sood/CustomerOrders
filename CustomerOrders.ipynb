{
 "cells": [
  {
   "cell_type": "markdown",
   "metadata": {},
   "source": [
    "# Quant Data Analysis"
   ]
  },
  {
   "cell_type": "markdown",
   "metadata": {},
   "source": [
    "## Objective\n",
    "To find insights/recommendations from the Customer Orders dataset.\n",
    "\n",
    "## Insights\n",
    "Following are the insights observed\n",
    "* Steady increase in **customers** for all regions (Central, South, West and East) except North\n",
    "* For year 2016: West, South and East experienced strong **sales growth (YoY)**  compared to Central which had minor decline in sales compared to 2015. West : +34%, South : +31%, East : +18%, Central : -0.22%\n",
    "* South Region YoY profit for 2016 declined by ~ 50% compared to 2015 despite showing strong YoY growth in sales for 2016\n",
    "* November month is the busiest month with maximum number of orders : 725. It makes sense because of events like Thanksgiving and Black Friday. Also, November month has maximum offered discount which could be a reason why it has maximum orders\n",
    "* Office Supply is most popular category across all regions for all segments which includes Consumers,Corporate and Home Office.\n"
   ]
  },
  {
   "cell_type": "markdown",
   "metadata": {},
   "source": [
    "## Data Analysis"
   ]
  },
  {
   "cell_type": "code",
   "execution_count": 100,
   "metadata": {
    "collapsed": true
   },
   "outputs": [],
   "source": [
    "# Import all the required libraries\n",
    "\n",
    "import pandas as pd\n",
    "import numpy as np\n",
    "import matplotlib.pyplot as plt\n",
    "import seaborn as sns\n",
    "%matplotlib inline\n",
    "import datetime as dt \n",
    "import calendar"
   ]
  },
  {
   "cell_type": "code",
   "execution_count": 101,
   "metadata": {
    "collapsed": false
   },
   "outputs": [],
   "source": [
    "# read the dataset\n",
    "quant_df = pd.read_excel('Quant Round.xlsx')"
   ]
  },
  {
   "cell_type": "markdown",
   "metadata": {},
   "source": [
    "## Exploratory Anaysis"
   ]
  },
  {
   "cell_type": "markdown",
   "metadata": {},
   "source": [
    "First try to explore and understand the data, inorder to get familiar with all the variables present in the dataset.\n",
    "Check if there are any outliers or missing values in the dataset which needs to be handled."
   ]
  },
  {
   "cell_type": "code",
   "execution_count": 280,
   "metadata": {
    "collapsed": false
   },
   "outputs": [
    {
     "data": {
      "text/html": [
       "<div>\n",
       "<table border=\"1\" class=\"dataframe\">\n",
       "  <thead>\n",
       "    <tr style=\"text-align: right;\">\n",
       "      <th></th>\n",
       "      <th>Row ID</th>\n",
       "      <th>Order ID</th>\n",
       "      <th>Order Date</th>\n",
       "      <th>Ship Date</th>\n",
       "      <th>Ship Mode</th>\n",
       "      <th>Customer ID</th>\n",
       "      <th>Customer Name</th>\n",
       "      <th>Segment</th>\n",
       "      <th>Country</th>\n",
       "      <th>City</th>\n",
       "      <th>...</th>\n",
       "      <th>Region</th>\n",
       "      <th>Product ID</th>\n",
       "      <th>Category</th>\n",
       "      <th>Sub-Category</th>\n",
       "      <th>Product Name</th>\n",
       "      <th>Item Price</th>\n",
       "      <th>Quantity</th>\n",
       "      <th>SalesTotal</th>\n",
       "      <th>Discount</th>\n",
       "      <th>Profit</th>\n",
       "    </tr>\n",
       "  </thead>\n",
       "  <tbody>\n",
       "    <tr>\n",
       "      <th>0</th>\n",
       "      <td>2718</td>\n",
       "      <td>CA-2011-100006</td>\n",
       "      <td>2013-09-07</td>\n",
       "      <td>41530</td>\n",
       "      <td>Standard Class</td>\n",
       "      <td>DK-13375</td>\n",
       "      <td>Dennis Kane</td>\n",
       "      <td>Consumer</td>\n",
       "      <td>United States</td>\n",
       "      <td>New York City</td>\n",
       "      <td>...</td>\n",
       "      <td>East</td>\n",
       "      <td>TEC-PH-10002075</td>\n",
       "      <td>Technology</td>\n",
       "      <td>Phones</td>\n",
       "      <td>AT&amp;T EL51110 DECT</td>\n",
       "      <td>125.990</td>\n",
       "      <td>3</td>\n",
       "      <td>377.970</td>\n",
       "      <td>0.0</td>\n",
       "      <td>109.6113</td>\n",
       "    </tr>\n",
       "    <tr>\n",
       "      <th>1</th>\n",
       "      <td>6288</td>\n",
       "      <td>CA-2011-100090</td>\n",
       "      <td>2013-07-08</td>\n",
       "      <td>41467</td>\n",
       "      <td>Standard Class</td>\n",
       "      <td>EB-13705</td>\n",
       "      <td>Ed Braxton</td>\n",
       "      <td>Corporate</td>\n",
       "      <td>United States</td>\n",
       "      <td>San Francisco</td>\n",
       "      <td>...</td>\n",
       "      <td>West</td>\n",
       "      <td>FUR-TA-10003715</td>\n",
       "      <td>Furniture</td>\n",
       "      <td>Tables</td>\n",
       "      <td>Hon 2111 Invitation Series Corner Table</td>\n",
       "      <td>167.496</td>\n",
       "      <td>3</td>\n",
       "      <td>502.488</td>\n",
       "      <td>0.2</td>\n",
       "      <td>-87.9354</td>\n",
       "    </tr>\n",
       "  </tbody>\n",
       "</table>\n",
       "<p>2 rows × 22 columns</p>\n",
       "</div>"
      ],
      "text/plain": [
       "   Row ID        Order ID Order Date  Ship Date       Ship Mode Customer ID  \\\n",
       "0    2718  CA-2011-100006 2013-09-07      41530  Standard Class    DK-13375   \n",
       "1    6288  CA-2011-100090 2013-07-08      41467  Standard Class    EB-13705   \n",
       "\n",
       "  Customer Name    Segment        Country           City    ...    Region  \\\n",
       "0   Dennis Kane   Consumer  United States  New York City    ...      East   \n",
       "1    Ed Braxton  Corporate  United States  San Francisco    ...      West   \n",
       "\n",
       "        Product ID    Category Sub-Category  \\\n",
       "0  TEC-PH-10002075  Technology       Phones   \n",
       "1  FUR-TA-10003715   Furniture       Tables   \n",
       "\n",
       "                              Product Name Item Price   Quantity  SalesTotal  \\\n",
       "0                        AT&T EL51110 DECT      125.990        3     377.970   \n",
       "1  Hon 2111 Invitation Series Corner Table      167.496        3     502.488   \n",
       "\n",
       "   Discount    Profit  \n",
       "0       0.0  109.6113  \n",
       "1       0.2  -87.9354  \n",
       "\n",
       "[2 rows x 22 columns]"
      ]
     },
     "execution_count": 280,
     "metadata": {},
     "output_type": "execute_result"
    }
   ],
   "source": [
    "quant_df.head(2)"
   ]
  },
  {
   "cell_type": "code",
   "execution_count": 94,
   "metadata": {
    "collapsed": false
   },
   "outputs": [
    {
     "name": "stdout",
     "output_type": "stream",
     "text": [
      "<class 'pandas.core.frame.DataFrame'>\n",
      "RangeIndex: 9994 entries, 0 to 9993\n",
      "Data columns (total 22 columns):\n",
      "Row ID           9994 non-null int64\n",
      "Order ID         9994 non-null object\n",
      "Order Date       9994 non-null datetime64[ns]\n",
      "Ship Date        9994 non-null int64\n",
      "Ship Mode        9994 non-null object\n",
      "Customer ID      9994 non-null object\n",
      "Customer Name    9994 non-null object\n",
      "Segment          9994 non-null object\n",
      "Country          9994 non-null object\n",
      "City             9994 non-null object\n",
      "State            9994 non-null object\n",
      "Postal Code      9994 non-null int64\n",
      "Region           9994 non-null object\n",
      "Product ID       9994 non-null object\n",
      "Category         9994 non-null object\n",
      "Sub-Category     9994 non-null object\n",
      "Product Name     9994 non-null object\n",
      "Item Price       9994 non-null float64\n",
      "Quantity         9994 non-null int64\n",
      "SalesTotal       9994 non-null float64\n",
      "Discount         9994 non-null float64\n",
      "Profit           9994 non-null float64\n",
      "dtypes: datetime64[ns](1), float64(4), int64(4), object(13)\n",
      "memory usage: 1.7+ MB\n"
     ]
    }
   ],
   "source": [
    "quant_df.info()"
   ]
  },
  {
   "cell_type": "code",
   "execution_count": 31,
   "metadata": {
    "collapsed": false
   },
   "outputs": [
    {
     "data": {
      "text/html": [
       "<div>\n",
       "<table border=\"1\" class=\"dataframe\">\n",
       "  <thead>\n",
       "    <tr style=\"text-align: right;\">\n",
       "      <th></th>\n",
       "      <th>Row ID</th>\n",
       "      <th>Ship Date</th>\n",
       "      <th>Postal Code</th>\n",
       "      <th>Item Price</th>\n",
       "      <th>Quantity</th>\n",
       "      <th>SalesTotal</th>\n",
       "      <th>Discount</th>\n",
       "      <th>Profit</th>\n",
       "    </tr>\n",
       "  </thead>\n",
       "  <tbody>\n",
       "    <tr>\n",
       "      <th>count</th>\n",
       "      <td>9994.000000</td>\n",
       "      <td>9994.000000</td>\n",
       "      <td>9994.000000</td>\n",
       "      <td>9994.000000</td>\n",
       "      <td>9994.000000</td>\n",
       "      <td>9994.000000</td>\n",
       "      <td>9994.000000</td>\n",
       "      <td>9994.000000</td>\n",
       "    </tr>\n",
       "    <tr>\n",
       "      <th>mean</th>\n",
       "      <td>4997.500000</td>\n",
       "      <td>42128.963178</td>\n",
       "      <td>55190.379428</td>\n",
       "      <td>67.253369</td>\n",
       "      <td>3.789574</td>\n",
       "      <td>229.858001</td>\n",
       "      <td>0.156203</td>\n",
       "      <td>28.656896</td>\n",
       "    </tr>\n",
       "    <tr>\n",
       "      <th>std</th>\n",
       "      <td>2885.163629</td>\n",
       "      <td>420.455211</td>\n",
       "      <td>32063.693350</td>\n",
       "      <td>287.157149</td>\n",
       "      <td>2.225110</td>\n",
       "      <td>623.245101</td>\n",
       "      <td>0.206452</td>\n",
       "      <td>234.260108</td>\n",
       "    </tr>\n",
       "    <tr>\n",
       "      <th>min</th>\n",
       "      <td>1.000000</td>\n",
       "      <td>41281.000000</td>\n",
       "      <td>1040.000000</td>\n",
       "      <td>0.336000</td>\n",
       "      <td>1.000000</td>\n",
       "      <td>0.444000</td>\n",
       "      <td>0.000000</td>\n",
       "      <td>-6599.978000</td>\n",
       "    </tr>\n",
       "    <tr>\n",
       "      <th>25%</th>\n",
       "      <td>2499.250000</td>\n",
       "      <td>41786.000000</td>\n",
       "      <td>23223.000000</td>\n",
       "      <td>5.477000</td>\n",
       "      <td>2.000000</td>\n",
       "      <td>17.280000</td>\n",
       "      <td>0.000000</td>\n",
       "      <td>1.728750</td>\n",
       "    </tr>\n",
       "    <tr>\n",
       "      <th>50%</th>\n",
       "      <td>4997.500000</td>\n",
       "      <td>42185.000000</td>\n",
       "      <td>56430.500000</td>\n",
       "      <td>16.271000</td>\n",
       "      <td>3.000000</td>\n",
       "      <td>54.490000</td>\n",
       "      <td>0.200000</td>\n",
       "      <td>8.666500</td>\n",
       "    </tr>\n",
       "    <tr>\n",
       "      <th>75%</th>\n",
       "      <td>7495.750000</td>\n",
       "      <td>42508.000000</td>\n",
       "      <td>90008.000000</td>\n",
       "      <td>63.940000</td>\n",
       "      <td>5.000000</td>\n",
       "      <td>209.940000</td>\n",
       "      <td>0.200000</td>\n",
       "      <td>29.364000</td>\n",
       "    </tr>\n",
       "    <tr>\n",
       "      <th>max</th>\n",
       "      <td>9994.000000</td>\n",
       "      <td>42740.000000</td>\n",
       "      <td>99301.000000</td>\n",
       "      <td>10559.992000</td>\n",
       "      <td>14.000000</td>\n",
       "      <td>22638.480000</td>\n",
       "      <td>0.800000</td>\n",
       "      <td>8399.976000</td>\n",
       "    </tr>\n",
       "  </tbody>\n",
       "</table>\n",
       "</div>"
      ],
      "text/plain": [
       "            Row ID     Ship Date   Postal Code    Item Price     Quantity  \\\n",
       "count  9994.000000   9994.000000   9994.000000   9994.000000  9994.000000   \n",
       "mean   4997.500000  42128.963178  55190.379428     67.253369     3.789574   \n",
       "std    2885.163629    420.455211  32063.693350    287.157149     2.225110   \n",
       "min       1.000000  41281.000000   1040.000000      0.336000     1.000000   \n",
       "25%    2499.250000  41786.000000  23223.000000      5.477000     2.000000   \n",
       "50%    4997.500000  42185.000000  56430.500000     16.271000     3.000000   \n",
       "75%    7495.750000  42508.000000  90008.000000     63.940000     5.000000   \n",
       "max    9994.000000  42740.000000  99301.000000  10559.992000    14.000000   \n",
       "\n",
       "         SalesTotal     Discount       Profit  \n",
       "count   9994.000000  9994.000000  9994.000000  \n",
       "mean     229.858001     0.156203    28.656896  \n",
       "std      623.245101     0.206452   234.260108  \n",
       "min        0.444000     0.000000 -6599.978000  \n",
       "25%       17.280000     0.000000     1.728750  \n",
       "50%       54.490000     0.200000     8.666500  \n",
       "75%      209.940000     0.200000    29.364000  \n",
       "max    22638.480000     0.800000  8399.976000  "
      ]
     },
     "execution_count": 31,
     "metadata": {},
     "output_type": "execute_result"
    }
   ],
   "source": [
    "quant_df.describe()"
   ]
  },
  {
   "cell_type": "code",
   "execution_count": 32,
   "metadata": {
    "collapsed": false
   },
   "outputs": [
    {
     "data": {
      "text/plain": [
       "Row ID           0\n",
       "Order ID         0\n",
       "Order Date       0\n",
       "Ship Date        0\n",
       "Ship Mode        0\n",
       "Customer ID      0\n",
       "Customer Name    0\n",
       "Segment          0\n",
       "Country          0\n",
       "City             0\n",
       "State            0\n",
       "Postal Code      0\n",
       "Region           0\n",
       "Product ID       0\n",
       "Category         0\n",
       "Sub-Category     0\n",
       "Product Name     0\n",
       "Item Price       0\n",
       "Quantity         0\n",
       "SalesTotal       0\n",
       "Discount         0\n",
       "Profit           0\n",
       "dtype: int64"
      ]
     },
     "execution_count": 32,
     "metadata": {},
     "output_type": "execute_result"
    }
   ],
   "source": [
    "# Check if there are any null values in the dataset\n",
    "quant_df.isnull().sum()"
   ]
  },
  {
   "cell_type": "markdown",
   "metadata": {},
   "source": [
    "### Data Pre-processing"
   ]
  },
  {
   "cell_type": "markdown",
   "metadata": {
    "collapsed": true
   },
   "source": [
    "The dates in the Order Date and Ship Date are in number format so changed it to date format and created a new column to extract  year and month from the dates."
   ]
  },
  {
   "cell_type": "code",
   "execution_count": 102,
   "metadata": {
    "collapsed": false
   },
   "outputs": [],
   "source": [
    "quant_df['Order month'] = quant_df['Order Date'].dt.month\n",
    "quant_df['Order month'] = quant_df['Order month'].apply(lambda x: calendar.month_abbr[x])\n",
    "quant_df['Order year'] = quant_df['Order Date'].dt.year"
   ]
  },
  {
   "cell_type": "markdown",
   "metadata": {
    "collapsed": false
   },
   "source": [
    "**Outlier detection:**\n",
    "The item price for rowID -6570 in dataset is incorrect, as it is showing very high value for chairs. But as observed with the same product ID in same region(central) the item price was $105. Hence changed the price of the item to make it consistent in the dataset."
   ]
  },
  {
   "cell_type": "code",
   "execution_count": null,
   "metadata": {
    "collapsed": true
   },
   "outputs": [],
   "source": [
    "quant_df.loc[quant_df['Row ID']==6570, 'Item Price']= 105.686"
   ]
  },
  {
   "cell_type": "markdown",
   "metadata": {},
   "source": [
    "Now, the dataset is clean as the outliers and required date formats have been handled. The data can now be used to get insights."
   ]
  },
  {
   "cell_type": "markdown",
   "metadata": {},
   "source": [
    "## Year over year growth analysis"
   ]
  },
  {
   "cell_type": "markdown",
   "metadata": {
    "collapsed": true
   },
   "source": [
    "### Year over Year growth in Customers by region"
   ]
  },
  {
   "cell_type": "code",
   "execution_count": 114,
   "metadata": {
    "collapsed": false
   },
   "outputs": [
    {
     "data": {
      "text/html": [
       "<div>\n",
       "<table border=\"1\" class=\"dataframe\">\n",
       "  <thead>\n",
       "    <tr style=\"text-align: right;\">\n",
       "      <th>Order year</th>\n",
       "      <th>2013</th>\n",
       "      <th>2014</th>\n",
       "      <th>2015</th>\n",
       "      <th>2016</th>\n",
       "    </tr>\n",
       "    <tr>\n",
       "      <th>Region</th>\n",
       "      <th></th>\n",
       "      <th></th>\n",
       "      <th></th>\n",
       "      <th></th>\n",
       "    </tr>\n",
       "  </thead>\n",
       "  <tbody>\n",
       "    <tr>\n",
       "      <th>Central</th>\n",
       "      <td>204.0</td>\n",
       "      <td>201.0</td>\n",
       "      <td>261.0</td>\n",
       "      <td>325.0</td>\n",
       "    </tr>\n",
       "    <tr>\n",
       "      <th>East</th>\n",
       "      <td>228.0</td>\n",
       "      <td>246.0</td>\n",
       "      <td>302.0</td>\n",
       "      <td>354.0</td>\n",
       "    </tr>\n",
       "    <tr>\n",
       "      <th>North</th>\n",
       "      <td>33.0</td>\n",
       "      <td>5.0</td>\n",
       "      <td>NaN</td>\n",
       "      <td>NaN</td>\n",
       "    </tr>\n",
       "    <tr>\n",
       "      <th>South</th>\n",
       "      <td>140.0</td>\n",
       "      <td>155.0</td>\n",
       "      <td>186.0</td>\n",
       "      <td>224.0</td>\n",
       "    </tr>\n",
       "    <tr>\n",
       "      <th>West</th>\n",
       "      <td>269.0</td>\n",
       "      <td>276.0</td>\n",
       "      <td>327.0</td>\n",
       "      <td>400.0</td>\n",
       "    </tr>\n",
       "  </tbody>\n",
       "</table>\n",
       "</div>"
      ],
      "text/plain": [
       "Order year   2013   2014   2015   2016\n",
       "Region                                \n",
       "Central     204.0  201.0  261.0  325.0\n",
       "East        228.0  246.0  302.0  354.0\n",
       "North        33.0    5.0    NaN    NaN\n",
       "South       140.0  155.0  186.0  224.0\n",
       "West        269.0  276.0  327.0  400.0"
      ]
     },
     "execution_count": 114,
     "metadata": {},
     "output_type": "execute_result"
    }
   ],
   "source": [
    "yoy_growth_customers = quant_df.groupby(['Order year','Region'])['Customer ID'].nunique()\n",
    "yoy_growth_customers_df = pd.DataFrame(yoy_growth_customers)\n",
    "yoy_growth_customers_df.reset_index(inplace=True)\n",
    "yoy_growth_customers_df=yoy_growth_customers_df.groupby(['Order year','Region'])['Customer ID'].sum()\n",
    "customer=pd.DataFrame(yoy_growth_customers_df).reset_index()\n",
    "pd.pivot_table(customer, values='Customer ID',index='Region',columns='Order year')"
   ]
  },
  {
   "cell_type": "markdown",
   "metadata": {
    "collapsed": true
   },
   "source": [
    "*Observation:*\n",
    "* Looking at the table above, it can be seen that West and East region has the most number of unique customers, closely followed by Central and South.\n",
    "* Customers have generally increased over years in all the regions except in North region where customers have declined."
   ]
  },
  {
   "cell_type": "markdown",
   "metadata": {},
   "source": [
    "Next, I wanted to check the year over year growth in sales to see if the increase or decrease in customers is affecting the sales in the regions or not"
   ]
  },
  {
   "cell_type": "markdown",
   "metadata": {},
   "source": [
    "### Year over Year growth in Sales by region"
   ]
  },
  {
   "cell_type": "code",
   "execution_count": 118,
   "metadata": {
    "collapsed": false
   },
   "outputs": [
    {
     "data": {
      "text/html": [
       "<div>\n",
       "<table border=\"1\" class=\"dataframe\">\n",
       "  <thead>\n",
       "    <tr style=\"text-align: right;\">\n",
       "      <th>Order year</th>\n",
       "      <th>YoY sales growth 2014 (%)</th>\n",
       "      <th>YoY sales growth 2015 (%)</th>\n",
       "      <th>YoY sales growth 2016 (%)</th>\n",
       "    </tr>\n",
       "    <tr>\n",
       "      <th>Region</th>\n",
       "      <th></th>\n",
       "      <th></th>\n",
       "      <th></th>\n",
       "    </tr>\n",
       "  </thead>\n",
       "  <tbody>\n",
       "    <tr>\n",
       "      <th>Central</th>\n",
       "      <td>-0.928312</td>\n",
       "      <td>43.310319</td>\n",
       "      <td>-0.224682</td>\n",
       "    </tr>\n",
       "    <tr>\n",
       "      <th>East</th>\n",
       "      <td>21.488578</td>\n",
       "      <td>15.478113</td>\n",
       "      <td>18.119000</td>\n",
       "    </tr>\n",
       "    <tr>\n",
       "      <th>North</th>\n",
       "      <td>-99.143378</td>\n",
       "      <td>NaN</td>\n",
       "      <td>NaN</td>\n",
       "    </tr>\n",
       "    <tr>\n",
       "      <th>South</th>\n",
       "      <td>0.741594</td>\n",
       "      <td>31.606647</td>\n",
       "      <td>31.471136</td>\n",
       "    </tr>\n",
       "    <tr>\n",
       "      <th>West</th>\n",
       "      <td>-5.353409</td>\n",
       "      <td>33.586502</td>\n",
       "      <td>34.045280</td>\n",
       "    </tr>\n",
       "  </tbody>\n",
       "</table>\n",
       "</div>"
      ],
      "text/plain": [
       "Order year  YoY sales growth 2014 (%)  YoY sales growth 2015 (%)  \\\n",
       "Region                                                             \n",
       "Central                     -0.928312                  43.310319   \n",
       "East                        21.488578                  15.478113   \n",
       "North                      -99.143378                        NaN   \n",
       "South                        0.741594                  31.606647   \n",
       "West                        -5.353409                  33.586502   \n",
       "\n",
       "Order year  YoY sales growth 2016 (%)  \n",
       "Region                                 \n",
       "Central                     -0.224682  \n",
       "East                        18.119000  \n",
       "North                             NaN  \n",
       "South                       31.471136  \n",
       "West                        34.045280  "
      ]
     },
     "execution_count": 118,
     "metadata": {},
     "output_type": "execute_result"
    }
   ],
   "source": [
    "# yoy growth in sales\n",
    "\n",
    "yoy_growth_sales = quant_df.groupby(by=['Order year','Region'])['SalesTotal'].sum()\n",
    "yoy_growth_sales_df = pd.DataFrame(yoy_growth_sales)\n",
    "yoy_growth_sales_df.reset_index(inplace=True)\n",
    "\n",
    "sales=pd.pivot_table(yoy_growth_sales_df,values='SalesTotal',index='Region',columns='Order year')\n",
    "sales['YoY sales growth 2014 (%)']=((sales[2014]/sales[2013])-1)*100\n",
    "sales['YoY sales growth 2015 (%)']=((sales[2015]/sales[2014])-1)*100\n",
    "sales['YoY sales growth 2016 (%)']=((sales[2016]/sales[2015])-1)*100\n",
    "sales[['YoY sales growth 2014 (%)', 'YoY sales growth 2015 (%)','YoY sales growth 2016 (%)']]"
   ]
  },
  {
   "cell_type": "markdown",
   "metadata": {
    "collapsed": true
   },
   "source": [
    "*Observation:*\n",
    "* In 2016 the percentage sales has decreased by 0.22% in Central region"
   ]
  },
  {
   "cell_type": "markdown",
   "metadata": {
    "collapsed": true
   },
   "source": [
    "Since the sales has decreased in the Central region, next I want to check if there is a correlation between profit and sales. If decrease in sales is resulting in decrease in profit as well."
   ]
  },
  {
   "cell_type": "markdown",
   "metadata": {},
   "source": [
    "### Year over Year growth in Profits by region"
   ]
  },
  {
   "cell_type": "code",
   "execution_count": 119,
   "metadata": {
    "collapsed": false
   },
   "outputs": [
    {
     "data": {
      "text/html": [
       "<div>\n",
       "<table border=\"1\" class=\"dataframe\">\n",
       "  <thead>\n",
       "    <tr style=\"text-align: right;\">\n",
       "      <th>Order year</th>\n",
       "      <th>YoY profit growth 2014 (%)</th>\n",
       "      <th>YoY profit growth 2015 (%)</th>\n",
       "      <th>YoY profit growth 2016 (%)</th>\n",
       "    </tr>\n",
       "    <tr>\n",
       "      <th>Region</th>\n",
       "      <th></th>\n",
       "      <th></th>\n",
       "      <th></th>\n",
       "    </tr>\n",
       "  </thead>\n",
       "  <tbody>\n",
       "    <tr>\n",
       "      <th>Central</th>\n",
       "      <td>2071.574120</td>\n",
       "      <td>69.834422</td>\n",
       "      <td>-62.054463</td>\n",
       "    </tr>\n",
       "    <tr>\n",
       "      <th>East</th>\n",
       "      <td>23.631277</td>\n",
       "      <td>-4.334556</td>\n",
       "      <td>64.522261</td>\n",
       "    </tr>\n",
       "    <tr>\n",
       "      <th>North</th>\n",
       "      <td>-115.860386</td>\n",
       "      <td>NaN</td>\n",
       "      <td>NaN</td>\n",
       "    </tr>\n",
       "    <tr>\n",
       "      <th>South</th>\n",
       "      <td>-30.643738</td>\n",
       "      <td>113.048194</td>\n",
       "      <td>-49.914151</td>\n",
       "    </tr>\n",
       "    <tr>\n",
       "      <th>West</th>\n",
       "      <td>2.125536</td>\n",
       "      <td>16.922261</td>\n",
       "      <td>83.225126</td>\n",
       "    </tr>\n",
       "  </tbody>\n",
       "</table>\n",
       "</div>"
      ],
      "text/plain": [
       "Order year  YoY profit growth 2014 (%)  YoY profit growth 2015 (%)  \\\n",
       "Region                                                               \n",
       "Central                    2071.574120                   69.834422   \n",
       "East                         23.631277                   -4.334556   \n",
       "North                      -115.860386                         NaN   \n",
       "South                       -30.643738                  113.048194   \n",
       "West                          2.125536                   16.922261   \n",
       "\n",
       "Order year  YoY profit growth 2016 (%)  \n",
       "Region                                  \n",
       "Central                     -62.054463  \n",
       "East                         64.522261  \n",
       "North                              NaN  \n",
       "South                       -49.914151  \n",
       "West                         83.225126  "
      ]
     },
     "execution_count": 119,
     "metadata": {},
     "output_type": "execute_result"
    }
   ],
   "source": [
    "# yoy in profits\n",
    "\n",
    "yoy_growth_profit = quant_df.groupby(by=['Order year','Region'])['Profit'].sum()\n",
    "yoy_growth_profit_df = pd.DataFrame(yoy_growth_profit)\n",
    "yoy_growth_profit_df.reset_index(inplace=True)\n",
    "\n",
    "profit=pd.pivot_table(yoy_growth_profit_df,values='Profit',index='Region',columns='Order year')\n",
    "profit['YoY profit growth 2014 (%)']=((profit[2014]/profit[2013])-1)*100\n",
    "profit['YoY profit growth 2015 (%)']=((profit[2015]/profit[2014])-1)*100\n",
    "profit['YoY profit growth 2016 (%)']=((profit[2016]/profit[2015])-1)*100\n",
    "profit[['YoY profit growth 2014 (%)', 'YoY profit growth 2015 (%)','YoY profit growth 2016 (%)']]"
   ]
  },
  {
   "cell_type": "markdown",
   "metadata": {
    "collapsed": true
   },
   "source": [
    "*Observation:*\n",
    "* Despite South having second highest growth rate in terms of sales in 2016, profit in South region has decreased by 50%"
   ]
  },
  {
   "cell_type": "markdown",
   "metadata": {},
   "source": [
    "## Order Analysis"
   ]
  },
  {
   "cell_type": "markdown",
   "metadata": {},
   "source": [
    "### Which month shows the maximum orders?"
   ]
  },
  {
   "cell_type": "code",
   "execution_count": 107,
   "metadata": {
    "collapsed": false
   },
   "outputs": [
    {
     "data": {
      "text/plain": [
       "[<matplotlib.text.Text at 0x10fac4a8>, <matplotlib.text.Text at 0x10fcde10>]"
      ]
     },
     "execution_count": 107,
     "metadata": {},
     "output_type": "execute_result"
    },
    {
     "data": {
      "image/png": "[encoded data removed]",
      "text/plain": [
       "<matplotlib.figure.Figure at 0xf268f28>"
      ]
     },
     "metadata": {},
     "output_type": "display_data"
    }
   ],
   "source": [
    "orders_by_month = quant_df.groupby(by='Order month')['Order ID'].nunique()\n",
    "orders_by_month_df =pd.DataFrame(orders_by_month)\n",
    "orders_by_month_df.reset_index(inplace=True)\n",
    "orders_by_month_df\n",
    "sns.barplot(x='Order month', y='Order ID', data =orders_by_month_df, color='blue', alpha=0.3, x_order=['Jan','Feb','Mar','Apr','May','Jun','Jul','Aug','Sep','Oct','Nov','Dec']).set(title='Orders per month', ylabel='Order Count')"
   ]
  },
  {
   "cell_type": "markdown",
   "metadata": {
    "collapsed": true
   },
   "source": [
    "*Observation:*\n",
    "* Every year most of the orders are placed in November. Let's further explore if there is any specific reason that people generally prefer buying during that time?"
   ]
  },
  {
   "cell_type": "markdown",
   "metadata": {},
   "source": [
    "To answer the above question , based on my assumption that there is Black friday and thanks giving sales in November. I wanted to check if that could be the reason for high number of orders.\n",
    "For this I tried to see the year round discount offerings in different months."
   ]
  },
  {
   "cell_type": "markdown",
   "metadata": {},
   "source": [
    "### Which month shows the maximum discount on the orders?"
   ]
  },
  {
   "cell_type": "code",
   "execution_count": 110,
   "metadata": {
    "collapsed": false
   },
   "outputs": [
    {
     "data": {
      "text/plain": [
       "[<matplotlib.text.Text at 0x10df40f0>, <matplotlib.text.Text at 0xeeabdd8>]"
      ]
     },
     "execution_count": 110,
     "metadata": {},
     "output_type": "execute_result"
    },
    {
     "data": {
      "image/png": "[encoded data removed]",
      "text/plain": [
       "<matplotlib.figure.Figure at 0x10b704a8>"
      ]
     },
     "metadata": {},
     "output_type": "display_data"
    }
   ],
   "source": [
    "discount_by_month = quant_df.groupby(by='Order month')['Discount'].sum()\n",
    "discount_by_month_df =pd.DataFrame(discount_by_month)\n",
    "discount_by_month_df.reset_index(inplace=True)\n",
    "discount_by_month_df\n",
    "sns.barplot(x='Order month', y='Discount', data =discount_by_month_df, color='blue', alpha=0.3,x_order=['Jan','Feb','Mar','Apr','May','Jun','Jul','Aug','Sep','Oct','Nov','Dec']).set(title='Discount per month', ylabel='Discount')"
   ]
  },
  {
   "cell_type": "markdown",
   "metadata": {
    "collapsed": true
   },
   "source": [
    "*Observation:*\n",
    "* Since majority of the discounts are offered in November so it is expected that most number of orders are also placed in November."
   ]
  },
  {
   "cell_type": "markdown",
   "metadata": {},
   "source": [
    "## Customer segment and Product Analysis"
   ]
  },
  {
   "cell_type": "markdown",
   "metadata": {},
   "source": [
    "### Which is the most popular Customer segment in different regions?"
   ]
  },
  {
   "cell_type": "code",
   "execution_count": 116,
   "metadata": {
    "collapsed": false
   },
   "outputs": [
    {
     "data": {
      "text/plain": [
       "[<matplotlib.text.Text at 0xe94ce48>, <matplotlib.text.Text at 0x108bf908>]"
      ]
     },
     "execution_count": 116,
     "metadata": {},
     "output_type": "execute_result"
    },
    {
     "data": {
      "image/png": "[encoded data removed]",
      "text/plain": [
       "<matplotlib.figure.Figure at 0xea539b0>"
      ]
     },
     "metadata": {},
     "output_type": "display_data"
    }
   ],
   "source": [
    "csegments_in_region = quant_df.groupby(by =['Region','Segment'])['Customer ID'].nunique().sort_values(ascending=False)\n",
    "csegments_in_region_df = pd.DataFrame(csegments_in_region)\n",
    "csegments_in_region_df.reset_index(inplace=True)\n",
    "sns.barplot(x='Region', y='Customer ID', data=csegments_in_region_df, hue ='Segment').set(ylabel = 'count'\n",
    "                                                                         , title = 'Customer segment by region')"
   ]
  },
  {
   "cell_type": "markdown",
   "metadata": {},
   "source": [
    "### What type of Product category is most popular in different regions?"
   ]
  },
  {
   "cell_type": "code",
   "execution_count": 93,
   "metadata": {
    "collapsed": false
   },
   "outputs": [
    {
     "data": {
      "text/plain": [
       "[<matplotlib.text.Text at 0xf2fca20>, <matplotlib.text.Text at 0xf321be0>]"
      ]
     },
     "execution_count": 93,
     "metadata": {},
     "output_type": "execute_result"
    },
    {
     "data": {
      "image/png": "[encoded data removed]",
      "text/plain": [
       "<matplotlib.figure.Figure at 0xd9d5eb8>"
      ]
     },
     "metadata": {},
     "output_type": "display_data"
    }
   ],
   "source": [
    "popular_product_category = quant_df.groupby(by=['Region','Category'])['Quantity'].sum().sort_values(ascending=False)\n",
    "popular_product_category_df=pd.DataFrame(popular_product_category)\n",
    "popular_product_category_df.reset_index(inplace=True)\n",
    "popular_product_category_df=popular_product_category_df.groupby(['Region','Category'])['Quantity'].max()\n",
    "popular_product_category_df=pd.DataFrame(popular_product_category_df)\n",
    "popular_product_category_df.reset_index(inplace=True)\n",
    "sns.barplot(x='Region', y='Quantity', data =popular_product_category_df, hue='Category').set(title='Popular Product category in every region',\n",
    "                                                                                            ylabel='Quantity Purchase Count')"
   ]
  },
  {
   "cell_type": "markdown",
   "metadata": {
    "collapsed": true
   },
   "source": [
    "*Observation:*\n",
    "* Across all the regions, Consumer segment is highly dominated over Corporate and Home Offices and the most frequently bought product category is Office Supplies."
   ]
  }
 ],
 "metadata": {
  "kernelspec": {
   "display_name": "Python 2",
   "language": "python",
   "name": "python2"
  },
  "language_info": {
   "codemirror_mode": {
    "name": "ipython",
    "version": 2
   },
   "file_extension": ".py",
   "mimetype": "text/x-python",
   "name": "python",
   "nbconvert_exporter": "python",
   "pygments_lexer": "ipython2",
   "version": "2.7.13"
  }
 },
 "nbformat": 4,
 "nbformat_minor": 2
}
